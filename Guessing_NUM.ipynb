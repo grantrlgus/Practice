{
  "nbformat": 4,
  "nbformat_minor": 0,
  "metadata": {
    "colab": {
      "name": "Guessing NUM.ipynb",
      "provenance": [],
      "collapsed_sections": [],
      "authorship_tag": "ABX9TyP9k6n5rIM31L1KNoPNMApG",
      "include_colab_link": true
    },
    "kernelspec": {
      "name": "python3",
      "display_name": "Python 3"
    },
    "language_info": {
      "name": "python"
    }
  },
  "cells": [
    {
      "cell_type": "markdown",
      "metadata": {
        "id": "view-in-github",
        "colab_type": "text"
      },
      "source": [
        "<a href=\"https://colab.research.google.com/github/grantrlgus/Practice/blob/main/Guessing_NUM.ipynb\" target=\"_parent\"><img src=\"https://colab.research.google.com/assets/colab-badge.svg\" alt=\"Open In Colab\"/></a>"
      ]
    },
    {
      "cell_type": "code",
      "metadata": {
        "colab": {
          "base_uri": "https://localhost:8080/"
        },
        "id": "KHdyBDNScz0e",
        "outputId": "52baa811-19d7-43f0-fd1c-97a2a9dbf341"
      },
      "source": [
        "# 숫자 입력받기 \n",
        "guess = input(\"숫자를 입력하세요 :\")\n",
        "print(guess)"
      ],
      "execution_count": 10,
      "outputs": [
        {
          "output_type": "stream",
          "text": [
            "숫자를 입력하세요 :35\n",
            "35\n"
          ],
          "name": "stdout"
        }
      ]
    },
    {
      "cell_type": "code",
      "metadata": {
        "colab": {
          "base_uri": "https://localhost:8080/"
        },
        "id": "lAtS4c9Tc00m",
        "outputId": "6b2b4348-ddc3-403c-e06b-b5da52115085"
      },
      "source": [
        "# 판단하기\n",
        "number = 35\n",
        " \n",
        "guess = input(\"숫자를 입력하세요 :\")\n",
        "if guess == number:\n",
        "    print(\"정답입니다\")\n",
        "else:\n",
        "    print(\"틀렸습니다\")"
      ],
      "execution_count": 11,
      "outputs": [
        {
          "output_type": "stream",
          "text": [
            "숫자를 입력하세요 :35\n",
            "틀렸습니다\n"
          ],
          "name": "stdout"
        }
      ]
    },
    {
      "cell_type": "code",
      "metadata": {
        "colab": {
          "base_uri": "https://localhost:8080/"
        },
        "id": "LniVRsTKctXm",
        "outputId": "a51b780e-77cb-4b64-9d32-ad007db21fed"
      },
      "source": [
        "# 반복하기\n",
        "number = 35\n",
        " \n",
        "while True:             # while 문으로 무한루프문을 만들고, 정답을 맞췄을때만 break를 해주면 답을 찾을때 까지 반복됨\n",
        "    guess = int(input(\"숫자를 입력하세요 :\"))\n",
        "    if guess == number:\n",
        "        print(\"정답입니다\")\n",
        "        break                 #정답이면, 루프문을 빠져 나갑니다.\n",
        "    else:\n",
        "        print(\"틀렸습니다\")"
      ],
      "execution_count": 9,
      "outputs": [
        {
          "output_type": "stream",
          "text": [
            "숫자를 입력하세요 :32\n",
            "틀렸습니다\n",
            "숫자를 입력하세요 :34\n",
            "틀렸습니다\n",
            "숫자를 입력하세요 :36\n",
            "틀렸습니다\n",
            "숫자를 입력하세요 :35\n",
            "정답입니다\n"
          ],
          "name": "stdout"
        }
      ]
    },
    {
      "cell_type": "code",
      "metadata": {
        "colab": {
          "base_uri": "https://localhost:8080/"
        },
        "id": "xHfDzgoObi02",
        "outputId": "0e32e83e-374c-444f-abe0-552711128542"
      },
      "source": [
        "number = 40\n",
        "\n",
        "while True:\n",
        "  guess =int(input('숫자를 입력해주세요: '))\n",
        "  if guess == number:\n",
        "     print('정답입니다')\n",
        "     break\n",
        "  elif guess > number:\n",
        "     print('더 작은수입니다')\n",
        "  elif guess < number:\n",
        "     print('더 큰수입니다')"
      ],
      "execution_count": 15,
      "outputs": [
        {
          "output_type": "stream",
          "text": [
            "숫자를 입력해주세요: 20\n",
            "더 큰수입니다\n",
            "숫자를 입력해주세요: 35\n",
            "더 큰수입니다\n",
            "숫자를 입력해주세요: 49\n",
            "더 작은수입니다\n",
            "숫자를 입력해주세요: 40\n",
            "정답입니다\n"
          ],
          "name": "stdout"
        }
      ]
    },
    {
      "cell_type": "code",
      "metadata": {
        "colab": {
          "base_uri": "https://localhost:8080/"
        },
        "id": "xE4WF-ZcfrxN",
        "outputId": "34e3a0ac-4132-4ff8-dfee-c88946cde567"
      },
      "source": [
        "# 정답 랜덤으로 생성하기\n",
        "import random\n",
        "number = random.randint(1,999)       #랜덤한 숫자 생성\n",
        "print(number)\n",
        " \n",
        "while True:\n",
        "    guess = int(input('숫자를 입력하세요 :'))\n",
        "    if guess == number:\n",
        "        print('정답입니다')\n",
        "        break\n",
        "    elif guess > number:\n",
        "        print('더 작은 수 입니다')\n",
        "    else:\n",
        "        print('더 큰 수 입니다.')"
      ],
      "execution_count": 1,
      "outputs": [
        {
          "output_type": "stream",
          "text": [
            "123\n",
            "숫자를 입력하세요 :123\n",
            "정답입니다\n"
          ],
          "name": "stdout"
        }
      ]
    },
    {
      "cell_type": "code",
      "metadata": {
        "colab": {
          "base_uri": "https://localhost:8080/"
        },
        "id": "7Ttv9WeYf-uN",
        "outputId": "fb3e1486-9b62-4d5b-a98a-4d9e0777b088"
      },
      "source": [
        "import random\n",
        "number = random.randint(1,999)\n",
        "print(number)\n",
        " \n",
        "while True: \n",
        "    try:                                 #정상적인 코드\n",
        "        guess = int(input('숫자를 입력하세요 :'))\n",
        "        if guess == number:\n",
        "            print('정답입니다')\n",
        "            break\n",
        "        elif guess > number:\n",
        "            print('더 작은 수 입니다')\n",
        "        else:\n",
        "            print('더 큰 수 입니다.')\n",
        "    except:                              # 오류가 났을때 실행할 코드\n",
        "        print('1-999중의 숫자를 입력하세요')"
      ],
      "execution_count": null,
      "outputs": [
        {
          "output_type": "stream",
          "text": [
            "537\n",
            "숫자를 입력하세요 :500\n",
            "더 큰 수 입니다.\n",
            "숫자를 입력하세요 :f\n",
            "1-999중의 숫자를 입력하세요\n",
            "숫자를 입력하세요 :444\n",
            "더 큰 수 입니다.\n",
            "1-999중의 숫자를 입력하세요\n",
            "1-999중의 숫자를 입력하세요\n",
            "1-999중의 숫자를 입력하세요\n"
          ],
          "name": "stdout"
        }
      ]
    },
    {
      "cell_type": "code",
      "metadata": {
        "colab": {
          "base_uri": "https://localhost:8080/"
        },
        "id": "9-nKUu1ZZRxm",
        "outputId": "b1c88373-4479-46d5-82de-35db0c4ac68d"
      },
      "source": [
        "import random \n",
        "import math\n",
        "# Taking Inputs \n",
        "lower = int(input(\"Enter Lower bound:- \"))\n",
        "\n",
        "# Taking Inputs\n",
        "upper = int(input(\"Enter Upper bound:- \"))\n",
        "\n",
        "# generating random number between\n",
        "# the lower and upper\n",
        "x = random.randint(lower, upper)\n",
        "print(\"\\n\\tYou've only \",\n",
        "\tround(math.log(upper - lower + 1, 2)),\n",
        "\t\" chances to guess the integer!\\n\")\n",
        "\n",
        "# Initializing the number of guesses.\n",
        "count = 0\n",
        "\n",
        "# for calculation of minimum number of\n",
        "# guesses depends upon range\n",
        "while count < math.log(upper - lower + 1, 2):\n",
        "\tcount += 1\n",
        "\n",
        "\t# taking guessing number as input\n",
        "\tguess = int(input(\"Guess a number:- \"))\n",
        "\n",
        "\t# Condition testing\n",
        "\tif x == guess:\n",
        "\t\tprint(\"Congratulations you did it in \",\n",
        "\t\t\tcount, \" try\")\n",
        "\t\t# Once guessed, loop will break\n",
        "\t\tbreak\n",
        "\telif x > guess:\n",
        "\t\tprint(\"You guessed too small!\")\n",
        "\telif x < guess:\n",
        "\t\tprint(\"You Guessed too high!\")\n",
        "\n",
        "# If Guessing is more than required guesses,\n",
        "# shows this output.\n",
        "if count >= math.log(upper - lower + 1, 2):\n",
        "\tprint(\"\\nThe number is %d\" % x)\n",
        "\tprint(\"\\tBetter Luck Next time!\")\n",
        "\n",
        "# Better to use This source Code on pycharm!\n",
        "\n",
        "\n"
      ],
      "execution_count": 2,
      "outputs": [
        {
          "output_type": "stream",
          "text": [
            "Enter Lower bound:- 0\n",
            "Enter Upper bound:- 100\n",
            "\n",
            "\tYou've only  7  chances to guess the integer!\n",
            "\n",
            "Guess a number:- 50\n",
            "You guessed too small!\n",
            "Guess a number:- 75\n",
            "You guessed too small!\n",
            "Guess a number:- 87\n",
            "You guessed too small!\n",
            "Guess a number:- 93\n",
            "You Guessed too high!\n",
            "Guess a number:- 90\n",
            "You guessed too small!\n",
            "Guess a number:- 32\n",
            "You guessed too small!\n",
            "Guess a number:- 92\n",
            "Congratulations you did it in  7  try\n",
            "\n",
            "The number is 92\n",
            "\tBetter Luck Next time!\n"
          ],
          "name": "stdout"
        }
      ]
    }
  ]
}